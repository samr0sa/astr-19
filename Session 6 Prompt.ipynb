{
 "cells": [
  {
   "cell_type": "markdown",
   "id": "f21ac503",
   "metadata": {},
   "source": [
    "**Have to import math first**"
   ]
  },
  {
   "cell_type": "code",
   "execution_count": 1,
   "id": "0f1590cf",
   "metadata": {},
   "outputs": [],
   "source": [
    "# Function to calculate sin(x)\n",
    "import math"
   ]
  },
  {
   "cell_type": "markdown",
   "id": "2d1b216e",
   "metadata": {},
   "source": [
    "Next step is to create functions that return **sin(x)** and **cos(x)**"
   ]
  },
  {
   "cell_type": "markdown",
   "id": "729ae17e",
   "metadata": {},
   "source": [
    "*sin(x) function:*"
   ]
  },
  {
   "cell_type": "code",
   "execution_count": 2,
   "id": "58831cb9",
   "metadata": {},
   "outputs": [],
   "source": [
    "def calculate_sin(x):\n",
    "    return math.sin(x)"
   ]
  },
  {
   "cell_type": "markdown",
   "id": "46f2fa66",
   "metadata": {},
   "source": [
    "*cos(x) function:*"
   ]
  },
  {
   "cell_type": "code",
   "execution_count": 3,
   "id": "165ccb0e",
   "metadata": {},
   "outputs": [],
   "source": [
    "# Function to calculate cos(x)\n",
    "def calculate_cos(x):\n",
    "    return math.cos(x)"
   ]
  },
  {
   "cell_type": "markdown",
   "id": "fa910766",
   "metadata": {},
   "source": [
    "Now we need to create a cell that tabulates **sin(x)** and **cos(x)** to our specifed range of **x** values. Can't forget to import numpy first. "
   ]
  },
  {
   "cell_type": "code",
   "execution_count": 4,
   "id": "a6823027",
   "metadata": {},
   "outputs": [],
   "source": [
    "import numpy as np\n",
    "\n",
    "# Create an array of x values\n",
    "x_values = np.linspace(0, 2*np.pi, 1000)\n",
    "\n",
    "# Calculate sin(x) and cos(x) for each x\n",
    "sin_values = [calculate_sin(x) for x in x_values]\n",
    "cos_values = [calculate_cos(x) for x in x_values]\n"
   ]
  },
  {
   "cell_type": "markdown",
   "id": "f7fce188",
   "metadata": {},
   "source": [
    "Finally, print the first 10 results of the function above, and make it look a little nicer by not having as many decimals. I do this by using the **:.3f** format function. I also printed a small header for aesthetics.  "
   ]
  },
  {
   "cell_type": "code",
   "execution_count": 5,
   "id": "1dc12c05",
   "metadata": {},
   "outputs": [
    {
     "name": "stdout",
     "output_type": "stream",
     "text": [
      "  x     | sin(x)| cos(x)\n",
      "--------+-------+--------\n",
      "0.000 \t| 0.000 | 1.000\n",
      "0.006 \t| 0.006 | 1.000\n",
      "0.013 \t| 0.013 | 1.000\n",
      "0.019 \t| 0.019 | 1.000\n",
      "0.025 \t| 0.025 | 1.000\n",
      "0.031 \t| 0.031 | 1.000\n",
      "0.038 \t| 0.038 | 0.999\n",
      "0.044 \t| 0.044 | 0.999\n",
      "0.050 \t| 0.050 | 0.999\n",
      "0.057 \t| 0.057 | 0.998\n"
     ]
    }
   ],
   "source": [
    "print(\"  x     | sin(x)| cos(x)\")\n",
    "print(\"--------+-------+--------\")\n",
    "for i in range(10):\n",
    "    print(f\"{x_values[i]:.3f} \\t| {sin_values[i]:.3f} | {cos_values[i]:.3f}\")\n",
    "    "
   ]
  }
 ],
 "metadata": {
  "kernelspec": {
   "display_name": "Python 3 (ipykernel)",
   "language": "python",
   "name": "python3"
  },
  "language_info": {
   "codemirror_mode": {
    "name": "ipython",
    "version": 3
   },
   "file_extension": ".py",
   "mimetype": "text/x-python",
   "name": "python",
   "nbconvert_exporter": "python",
   "pygments_lexer": "ipython3",
   "version": "3.9.13"
  }
 },
 "nbformat": 4,
 "nbformat_minor": 5
}
